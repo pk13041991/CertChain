{
 "cells": [
  {
   "cell_type": "code",
   "execution_count": 1,
   "metadata": {
    "_cell_guid": "79c7e3d0-c299-4dcb-8224-4455121ee9b0",
    "_uuid": "d629ff2d2480ee46fbb7e2d37f6b5fab8052498a",
    "execution": {
     "iopub.execute_input": "2023-02-11T07:26:57.444234Z",
     "iopub.status.busy": "2023-02-11T07:26:57.443430Z",
     "iopub.status.idle": "2023-02-11T07:26:58.995059Z",
     "shell.execute_reply": "2023-02-11T07:26:58.994277Z",
     "shell.execute_reply.started": "2023-02-11T06:16:58.026929Z"
    },
    "papermill": {
     "duration": 1.565409,
     "end_time": "2023-02-11T07:26:58.995177",
     "exception": false,
     "start_time": "2023-02-11T07:26:57.429768",
     "status": "completed"
    },
    "tags": []
   },
   "outputs": [],
   "source": [
    "import os, sys\n",
    "import time, math\n",
    "import argparse, random\n",
    "from math import exp\n",
    "import numpy as np\n",
    "\n",
    "import torch\n",
    "from torch import nn, optim\n",
    "import torch.nn.functional as F\n",
    "import torch.utils.data as data\n",
    "from torch.utils.data import DataLoader\n",
    "from torch.backends import cudnn\n",
    "from torch.autograd import Variable\n",
    "\n",
    "import torchvision\n",
    "import torchvision.transforms as tfs\n",
    "from torchvision.transforms import ToPILImage\n",
    "from torchvision.transforms import functional as FF\n",
    "import torchvision.utils as vutils\n",
    "from torchvision.utils import make_grid\n",
    "from torchvision.models import vgg16\n",
    "\n",
    "from PIL import Image\n",
    "import matplotlib.pyplot as plt\n",
    "import warnings\n",
    "warnings.filterwarnings('ignore')"
   ]
  },
  {
   "cell_type": "markdown",
   "metadata": {
    "papermill": {
     "duration": 0.005515,
     "end_time": "2023-02-11T07:26:59.006729",
     "exception": false,
     "start_time": "2023-02-11T07:26:59.001214",
     "status": "completed"
    },
    "tags": []
   },
   "source": [
    "### Settings ⚙️"
   ]
  },
  {
   "cell_type": "code",
   "execution_count": 2,
   "metadata": {
    "execution": {
     "iopub.execute_input": "2023-02-11T07:26:59.088729Z",
     "iopub.status.busy": "2023-02-11T07:26:59.087979Z",
     "iopub.status.idle": "2023-02-11T07:26:59.091411Z",
     "shell.execute_reply": "2023-02-11T07:26:59.090825Z",
     "shell.execute_reply.started": "2023-02-11T06:17:04.129207Z"
    },
    "papermill": {
     "duration": 0.079294,
     "end_time": "2023-02-11T07:26:59.091518",
     "exception": false,
     "start_time": "2023-02-11T07:26:59.012224",
     "status": "completed"
    },
    "tags": []
   },
   "outputs": [],
   "source": [
    "# Device name\n",
    "device = 'cuda' if torch.cuda.is_available() else 'cpu'\n",
    "# Num residual_groups\n",
    "gps = 3\n",
    "# Num residual_blocks\n",
    "blocks = 19\n",
    "# Directory of test imgs\n",
    "img_dir = '../input/synthetic-objective-testing-set-sots-reside/outdoor/hazy/'\n",
    "# Pre-trained checkpoint dir\n",
    "pretrained_model_dir = '../input/ffanet-pretrained-weights/' + f'ots_train_ffa_{gps}_{blocks}.pk'\n",
    "# Output dir to save predicted de-hazed images\n",
    "output_dir = f'pred_FFA_ots/'\n",
    "\n",
    "if not os.path.exists(output_dir):\n",
    "    os.mkdir(output_dir)"
   ]
  },
  {
   "cell_type": "markdown",
   "metadata": {
    "papermill": {
     "duration": 0.005084,
     "end_time": "2023-02-11T07:26:59.102261",
     "exception": false,
     "start_time": "2023-02-11T07:26:59.097177",
     "status": "completed"
    },
    "tags": []
   },
   "source": [
    "### Utility Functions"
   ]
  },
  {
   "cell_type": "code",
   "execution_count": 3,
   "metadata": {
    "execution": {
     "iopub.execute_input": "2023-02-11T07:26:59.119181Z",
     "iopub.status.busy": "2023-02-11T07:26:59.118478Z",
     "iopub.status.idle": "2023-02-11T07:26:59.121551Z",
     "shell.execute_reply": "2023-02-11T07:26:59.121145Z",
     "shell.execute_reply.started": "2023-02-11T06:17:08.401526Z"
    },
    "papermill": {
     "duration": 0.01406,
     "end_time": "2023-02-11T07:26:59.121661",
     "exception": false,
     "start_time": "2023-02-11T07:26:59.107601",
     "status": "completed"
    },
    "tags": []
   },
   "outputs": [],
   "source": [
    "def tensorShow(tensors,titles=None):\n",
    "    '''t:BCWH'''\n",
    "    fig=plt.figure()\n",
    "    for tensor, title, i in zip(tensors, titles, range(len(tensors))):\n",
    "        img = make_grid(tensor)\n",
    "        npimg = img.numpy()\n",
    "        ax = fig.add_subplot(211+i)\n",
    "        ax.imshow(np.transpose(npimg, (1, 2, 0)))\n",
    "        ax.set_title(title)\n",
    "    plt.show()"
   ]
  },
  {
   "cell_type": "markdown",
   "metadata": {
    "papermill": {
     "duration": 0.006356,
     "end_time": "2023-02-11T07:26:59.133338",
     "exception": false,
     "start_time": "2023-02-11T07:26:59.126982",
     "status": "completed"
    },
    "tags": []
   },
   "source": [
    "### Model Definition"
   ]
  },
  {
   "cell_type": "code",
   "execution_count": 4,
   "metadata": {
    "execution": {
     "iopub.execute_input": "2023-02-11T07:26:59.167101Z",
     "iopub.status.busy": "2023-02-11T07:26:59.156567Z",
     "iopub.status.idle": "2023-02-11T07:26:59.174372Z",
     "shell.execute_reply": "2023-02-11T07:26:59.173843Z",
     "shell.execute_reply.started": "2023-02-11T06:17:12.297046Z"
    },
    "papermill": {
     "duration": 0.035856,
     "end_time": "2023-02-11T07:26:59.174477",
     "exception": false,
     "start_time": "2023-02-11T07:26:59.138621",
     "status": "completed"
    },
    "tags": []
   },
   "outputs": [],
   "source": [
    "def default_conv(in_channels, out_channels, kernel_size, bias=True):\n",
    "    return nn.Conv2d(in_channels, out_channels, kernel_size, padding=(kernel_size//2), bias=bias)\n",
    "    \n",
    "    \n",
    "class PALayer(nn.Module):\n",
    "    def __init__(self, channel):\n",
    "        super(PALayer, self).__init__()\n",
    "        self.pa = nn.Sequential(\n",
    "                nn.Conv2d(channel, channel // 8, 1, padding=0, bias=True),\n",
    "                nn.ReLU(inplace=True),\n",
    "                nn.Conv2d(channel // 8, 1, 1, padding=0, bias=True),\n",
    "                nn.Sigmoid()\n",
    "        )\n",
    "    def forward(self, x):\n",
    "        y = self.pa(x)\n",
    "        return x * y\n",
    "\n",
    "    \n",
    "class CALayer(nn.Module):\n",
    "    def __init__(self, channel):\n",
    "        super(CALayer, self).__init__()\n",
    "        self.avg_pool = nn.AdaptiveAvgPool2d(1)\n",
    "        self.ca = nn.Sequential(\n",
    "                nn.Conv2d(channel, channel // 8, 1, padding=0, bias=True),\n",
    "                nn.ReLU(inplace=True),\n",
    "                nn.Conv2d(channel // 8, channel, 1, padding=0, bias=True),\n",
    "                nn.Sigmoid()\n",
    "        )\n",
    "\n",
    "    def forward(self, x):\n",
    "        y = self.avg_pool(x)\n",
    "        y = self.ca(y)\n",
    "        return x * y\n",
    "\n",
    "    \n",
    "class Block(nn.Module):\n",
    "    def __init__(self, conv, dim, kernel_size,):\n",
    "        super(Block, self).__init__()\n",
    "        self.conv1 = conv(dim, dim, kernel_size, bias=True)\n",
    "        self.act1 = nn.ReLU(inplace=True)\n",
    "        self.conv2 = conv(dim, dim, kernel_size, bias=True)\n",
    "        self.calayer = CALayer(dim)\n",
    "        self.palayer = PALayer(dim)\n",
    "\n",
    "    def forward(self, x):\n",
    "        res = self.act1(self.conv1(x))\n",
    "        res = res+x \n",
    "        res = self.conv2(res)\n",
    "        res = self.calayer(res)\n",
    "        res = self.palayer(res)\n",
    "        res += x \n",
    "        return res\n",
    "\n",
    "    \n",
    "class Group(nn.Module):\n",
    "    def __init__(self, conv, dim, kernel_size, blocks):\n",
    "        super(Group, self).__init__()\n",
    "        modules = [Block(conv, dim, kernel_size)  for _ in range(blocks)]\n",
    "        modules.append(conv(dim, dim, kernel_size))\n",
    "        self.gp = nn.Sequential(*modules)\n",
    "\n",
    "    def forward(self, x):\n",
    "        res = self.gp(x)\n",
    "        res += x\n",
    "        return res\n",
    "\n",
    "    \n",
    "class FFA(nn.Module):\n",
    "    def __init__(self,gps,blocks,conv=default_conv):\n",
    "        super(FFA, self).__init__()\n",
    "        self.gps = gps\n",
    "        self.dim = 64\n",
    "        kernel_size = 3\n",
    "        pre_process = [conv(3, self.dim, kernel_size)]\n",
    "        assert self.gps==3\n",
    "        self.g1 = Group(conv, self.dim, kernel_size,blocks=blocks)\n",
    "        self.g2 = Group(conv, self.dim, kernel_size,blocks=blocks)\n",
    "        self.g3 = Group(conv, self.dim, kernel_size,blocks=blocks)\n",
    "        self.ca = nn.Sequential(*[\n",
    "            nn.AdaptiveAvgPool2d(1),\n",
    "            nn.Conv2d(self.dim*self.gps,self.dim//16,1,padding=0),\n",
    "            nn.ReLU(inplace=True),\n",
    "            nn.Conv2d(self.dim//16, self.dim*self.gps, 1, padding=0, bias=True),\n",
    "            nn.Sigmoid()\n",
    "            ])\n",
    "        self.palayer = PALayer(self.dim)\n",
    "\n",
    "        post_process = [\n",
    "            conv(self.dim, self.dim, kernel_size),\n",
    "            conv(self.dim, 3, kernel_size)]\n",
    "\n",
    "        self.pre = nn.Sequential(*pre_process)\n",
    "        self.post = nn.Sequential(*post_process)\n",
    "\n",
    "    def forward(self, x1):\n",
    "        x = self.pre(x1)\n",
    "        res1 = self.g1(x)\n",
    "        res2 = self.g2(res1)\n",
    "        res3 = self.g3(res2)\n",
    "        w = self.ca(torch.cat([res1,res2,res3],dim=1))\n",
    "        w = w.view(-1,self.gps, self.dim)[:,:,:,None,None]\n",
    "        out = w[:,0,::] * res1 + w[:,1,::] * res2+w[:,2,::] * res3\n",
    "        out = self.palayer(out)\n",
    "        x = self.post(out)\n",
    "        return x + x1"
   ]
  },
  {
   "cell_type": "markdown",
   "metadata": {
    "papermill": {
     "duration": 0.005132,
     "end_time": "2023-02-11T07:26:59.184798",
     "exception": false,
     "start_time": "2023-02-11T07:26:59.179666",
     "status": "completed"
    },
    "tags": []
   },
   "source": [
    "### Test"
   ]
  },
  {
   "cell_type": "code",
   "execution_count": 5,
   "metadata": {
    "execution": {
     "iopub.execute_input": "2023-02-11T07:26:59.203701Z",
     "iopub.status.busy": "2023-02-11T07:26:59.203130Z",
     "iopub.status.idle": "2023-02-11T07:33:11.388944Z",
     "shell.execute_reply": "2023-02-11T07:33:11.388292Z",
     "shell.execute_reply.started": "2023-02-11T06:17:21.334972Z"
    },
    "papermill": {
     "duration": 372.199168,
     "end_time": "2023-02-11T07:33:11.389082",
     "exception": false,
     "start_time": "2023-02-11T07:26:59.189914",
     "status": "completed"
    },
    "tags": []
   },
   "outputs": [],
   "source": [
    "ckp = torch.load(pretrained_model_dir, map_location=device)\n",
    "net = FFA(gps=gps, blocks=blocks)\n",
    "net = nn.DataParallel(net)\n",
    "net.load_state_dict(ckp['model'])\n",
    "net.eval()\n",
    "\n",
    "img_paths = sorted(os.listdir(img_dir))\n",
    "\n",
    "for im in img_paths:\n",
    "    haze = Image.open(img_dir+im)\n",
    "    haze1 = tfs.Compose([\n",
    "        tfs.ToTensor(),\n",
    "        tfs.Normalize(mean=[0.64, 0.6, 0.58],std=[0.14,0.15, 0.152])\n",
    "    ])(haze)[None,::]\n",
    "    haze_no = tfs.ToTensor()(haze)[None,::]\n",
    "    with torch.no_grad():\n",
    "        pred = net(haze1)\n",
    "    ts = torch.squeeze(pred.clamp(0,1).cpu())\n",
    "    # tensorShow([haze_no, pred.clamp(0,1).cpu()],['haze', 'pred'])\n",
    "    \n",
    "    haze_no = make_grid(haze_no, nrow=1, normalize=True)\n",
    "    ts = make_grid(ts, nrow=1, normalize=True)\n",
    "    image_grid = torch.cat((haze_no, ts), -1)\n",
    "    vutils.save_image(image_grid, output_dir+im.split('.')[0]+'_FFA.png')"
   ]
  }
 ],
 "metadata": {
  "kernelspec": {
   "display_name": "Python 3",
   "language": "python",
   "name": "python3"
  },
  "language_info": {
   "codemirror_mode": {
    "name": "ipython",
    "version": 3
   },
   "file_extension": ".py",
   "mimetype": "text/x-python",
   "name": "python",
   "nbconvert_exporter": "python",
   "pygments_lexer": "ipython3",
   "version": "3.7.6"
  },
  "papermill": {
   "duration": 377.709741,
   "end_time": "2023-02-11T07:33:11.606863",
   "environment_variables": {},
   "exception": null,
   "input_path": "__notebook__.ipynb",
   "output_path": "__notebook__.ipynb",
   "parameters": {},
   "start_time": "2023-02-11T07:26:53.897122",
   "version": "2.1.0"
  }
 },
 "nbformat": 4,
 "nbformat_minor": 4
}
